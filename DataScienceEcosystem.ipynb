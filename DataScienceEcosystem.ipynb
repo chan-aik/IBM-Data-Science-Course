{
  "metadata": {
    "kernelspec": {
      "name": "python",
      "display_name": "Python (Pyodide)",
      "language": "python"
    },
    "language_info": {
      "codemirror_mode": {
        "name": "python",
        "version": 3
      },
      "file_extension": ".py",
      "mimetype": "text/x-python",
      "name": "python",
      "nbconvert_exporter": "python",
      "pygments_lexer": "ipython3",
      "version": "3.8"
    }
  },
  "nbformat_minor": 5,
  "nbformat": 4,
  "cells": [
    {
      "id": "31976ced-462d-4b14-a642-05b384597998",
      "cell_type": "markdown",
      "source": "# Data Science Tools and Ecosystem",
      "metadata": {}
    },
    {
      "id": "8bc7cd10-ae78-46e9-8580-d6dac9bc651e",
      "cell_type": "markdown",
      "source": "### In this notebook, Data Science Tools and Ecosystem are summarized.",
      "metadata": {}
    },
    {
      "id": "f2d1ae7b-e773-4d47-a7b5-a43d66bf2981",
      "cell_type": "markdown",
      "source": "## Objectives: ##\n- List popular languages for Data Science\n- List commonly used libraries used for Data Science\n- List three development environment open source tools used in Data Science\n- A simple arithmetic expression to multiply then add integers\n- Converting minutes to hours\n\n## Chantai Aikman\nAuthor",
      "metadata": {}
    },
    {
      "id": "a0a41046-b290-4589-9a8c-ac231185dbfc",
      "cell_type": "markdown",
      "source": "***Some of the popular languages that Data Scientists use are:***",
      "metadata": {
        "tags": [],
        "editable": true,
        "slideshow": {
          "slide_type": ""
        }
      }
    },
    {
      "id": "d3e874ae-adfa-4fa8-bc34-ce5d1cede63f",
      "cell_type": "markdown",
      "source": "1. Python\n2. R\n3. SQL",
      "metadata": {}
    },
    {
      "id": "88d34073-16c0-47b4-bf52-cf6ae04a410f",
      "cell_type": "markdown",
      "source": "***Some of the commonly used libraries used by Data Scientists include:***",
      "metadata": {}
    },
    {
      "id": "ed4069b2-85ff-4360-835b-fda9c517aa56",
      "cell_type": "markdown",
      "source": "1. Pandas\n2. NumPy\n3. Matplotlib",
      "metadata": {}
    },
    {
      "id": "7cf142cc-c986-40ea-9afd-a3f73d04290c",
      "cell_type": "markdown",
      "source": "\n| Data Science Tools |\n| ------------- |\n| RStudio |\n| Git |\n| Jupyter Notebooks |",
      "metadata": {}
    },
    {
      "id": "bb52b69e-b8b0-49db-9bb2-bbf00889d013",
      "cell_type": "markdown",
      "source": "### Below are a few examples of evaluating arithmetic expressions in Python",
      "metadata": {}
    },
    {
      "id": "a172217b-a5c0-459c-862b-e6d463e1edc5",
      "cell_type": "code",
      "source": "print(\"This a simple arithmetic expression to multiply then add integers\")",
      "metadata": {
        "trusted": true
      },
      "outputs": [
        {
          "name": "stdout",
          "output_type": "stream",
          "text": "This a simple arithmetic expression to multiply then add integers\n"
        }
      ],
      "execution_count": 4
    },
    {
      "id": "e3b3b8b0-b6bd-4ded-86ac-bb58e2004aad",
      "cell_type": "code",
      "source": "print ((3*4)+5)",
      "metadata": {
        "trusted": true
      },
      "outputs": [
        {
          "name": "stdout",
          "output_type": "stream",
          "text": "17\n"
        }
      ],
      "execution_count": 11
    },
    {
      "id": "0dd9bfe7-0a62-498d-91d5-b2b262f6c296",
      "cell_type": "code",
      "source": "print(\"This will convert 200 minutes to hours by dividing by 60\")",
      "metadata": {
        "trusted": true
      },
      "outputs": [
        {
          "name": "stdout",
          "output_type": "stream",
          "text": "This will convert 200 minutes to hours by dividing by 60\n"
        }
      ],
      "execution_count": 1
    },
    {
      "id": "376ac8d2-0d66-4cf7-8e79-e3729f1f73d2",
      "cell_type": "code",
      "source": "# Convert 200 minutes to hours\nminutes = 200\nhours = minutes / 60\nprint(hours)",
      "metadata": {
        "trusted": true
      },
      "outputs": [
        {
          "name": "stdout",
          "output_type": "stream",
          "text": "3.3333333333333335\n"
        }
      ],
      "execution_count": 3
    }
  ]
}